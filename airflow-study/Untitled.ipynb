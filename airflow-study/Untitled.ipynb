{
 "cells": [
  {
   "cell_type": "code",
   "execution_count": 127,
   "id": "fdacf8c5",
   "metadata": {},
   "outputs": [
    {
     "data": {
      "text/plain": [
       "'tabela_airflow-study.csv'"
      ]
     },
     "execution_count": 127,
     "metadata": {},
     "output_type": "execute_result"
    }
   ],
   "source": [
    "from airflow import DAG\n",
    "from airflow.operators.python import PythonOperator\n",
    "\n",
    "from datetime import datetime\n",
    "import sqlite3\n",
    "import pandas as pd\n",
    "import random\n",
    "import os\n",
    "\n",
    "#from google.cloud import storage\n",
    "\n",
    "path_airflow_study = '/home/tatiane/dataengineering-study/airflow-study/'\n",
    "database_name = 'airflow-study.db'\n",
    "tabela_name = 'tabela_airflow-study.csv'\n",
    "\n",
    "#cria db sqlite\n",
    "def _cria_consulta_sqlite():\n",
    "    #criando db\n",
    "    conn = sqlite3.connect(path_airflow_study + database_name)\n",
    "    \n",
    "    #instanciando cursor\n",
    "    cur = conn.cursor()\n",
    "    \n",
    "    #criando tabela\n",
    "    sql_create = 'CREATE TABLE IF NOT EXISTS teste '\\\n",
    "    '(id integer primary key, '\\\n",
    "    'valor integer, '\\\n",
    "    'categoria varchar(140))'\n",
    "    cur.execute(sql_create)\n",
    "\n",
    "    #criando linhas para a tabela\n",
    "    row = []\n",
    "    for i in range(0, 500):\n",
    "        row.append((str(i), random.randint(100,500), random.choice(['Cliente','Fornecedor'])))\n",
    "    \n",
    "    #inserindo registros\n",
    "    sql_insert = 'INSERT OR IGNORE INTO teste values (?, ?, ?)'\n",
    "\n",
    "    # Inserindo os registros\n",
    "    for rec in row:\n",
    "        cur.execute(sql_insert, rec)\n",
    "\n",
    "    conn.commit()\n",
    "    \n",
    "    #pegando tabela teste\n",
    "    tabelas = pd.read_sql_query('SELECT NAME AS name FROM sqlite_master WHERE type = \"table\"', conn)\n",
    "    param = tabelas['name'][0] #tabela contacts\n",
    "    \n",
    "    #query\n",
    "    query = 'SELECT * FROM {}'.format(param)\n",
    "\n",
    "    tabela = pd.read_sql_query(query, conn)\n",
    "    tabela.to_csv(path_airflow_study + tabela_name)\n",
    "    \n",
    "    return tabela_name\n",
    "\n",
    "_cria_consulta_sqlite()"
   ]
  },
  {
   "cell_type": "code",
   "execution_count": 120,
   "id": "cf7235be",
   "metadata": {},
   "outputs": [
    {
     "data": {
      "text/plain": [
       "'/home/tatiane/dataengineering-study/airflow-study'"
      ]
     },
     "execution_count": 120,
     "metadata": {},
     "output_type": "execute_result"
    }
   ],
   "source": [
    "pwd"
   ]
  },
  {
   "cell_type": "code",
   "execution_count": 125,
   "id": "422d8471",
   "metadata": {},
   "outputs": [
    {
     "name": "stdout",
     "output_type": "stream",
     "text": [
      "airflow-study_DAG.py  tabela_airflow-study.csv  Untitled.ipynb\n",
      "airflow-study.db      tutorial_dag.py\n"
     ]
    }
   ],
   "source": [
    "ls"
   ]
  }
 ],
 "metadata": {
  "kernelspec": {
   "display_name": "Python 3",
   "language": "python",
   "name": "python3"
  },
  "language_info": {
   "codemirror_mode": {
    "name": "ipython",
    "version": 3
   },
   "file_extension": ".py",
   "mimetype": "text/x-python",
   "name": "python",
   "nbconvert_exporter": "python",
   "pygments_lexer": "ipython3",
   "version": "3.8.5"
  }
 },
 "nbformat": 4,
 "nbformat_minor": 5
}
