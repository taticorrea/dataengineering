{
 "cells": [
  {
   "cell_type": "code",
   "execution_count": 5,
   "id": "28b089ab",
   "metadata": {},
   "outputs": [],
   "source": [
    "from pyspark.sql import SparkSession\n",
    "from pyspark.sql import Row"
   ]
  },
  {
   "cell_type": "code",
   "execution_count": 112,
   "id": "8dc3fb9e",
   "metadata": {},
   "outputs": [],
   "source": [
    "from datetime import datetime, date\n",
    "import string\n",
    "import random\n",
    "import time\n",
    "import pandas as pd"
   ]
  },
  {
   "cell_type": "code",
   "execution_count": 6,
   "id": "19faa6be",
   "metadata": {},
   "outputs": [],
   "source": [
    "spark = SparkSession.builder.getOrCreate()"
   ]
  },
  {
   "cell_type": "code",
   "execution_count": 7,
   "id": "d825605d",
   "metadata": {},
   "outputs": [
    {
     "data": {
      "text/html": [
       "\n",
       "            <div>\n",
       "                <p><b>SparkSession - in-memory</b></p>\n",
       "                \n",
       "        <div>\n",
       "            <p><b>SparkContext</b></p>\n",
       "\n",
       "            <p><a href=\"http://lenovo:4042\">Spark UI</a></p>\n",
       "\n",
       "            <dl>\n",
       "              <dt>Version</dt>\n",
       "                <dd><code>v3.2.1</code></dd>\n",
       "              <dt>Master</dt>\n",
       "                <dd><code>local[*]</code></dd>\n",
       "              <dt>AppName</dt>\n",
       "                <dd><code>pyspark-shell</code></dd>\n",
       "            </dl>\n",
       "        </div>\n",
       "        \n",
       "            </div>\n",
       "        "
      ],
      "text/plain": [
       "<pyspark.sql.session.SparkSession at 0x7fa39bf3a850>"
      ]
     },
     "execution_count": 7,
     "metadata": {},
     "output_type": "execute_result"
    }
   ],
   "source": [
    "spark"
   ]
  },
  {
   "cell_type": "code",
   "execution_count": 13,
   "id": "25f3af6a",
   "metadata": {},
   "outputs": [],
   "source": [
    "df = spark.createDataFrame([\n",
    "    Row(a = 1, b = 2., c = date(2022,1,1), d = datetime(2022,1,1,12,0)),\n",
    "    Row(a = 2, b = 3., c = date(2022,2,1), d = datetime(2022,1,2,12,0)),\n",
    "    Row(a = 3, b = 4., c = date(2022,3,1), d = datetime(2022,1,3,12,0))], schema = \"a long, b double, c date, d timestamp\"\n",
    ")"
   ]
  },
  {
   "cell_type": "code",
   "execution_count": 23,
   "id": "7f3c33c2",
   "metadata": {},
   "outputs": [
    {
     "name": "stdout",
     "output_type": "stream",
     "text": [
      "+---+---+----------+-------------------+\n",
      "|  a|  b|         c|                  d|\n",
      "+---+---+----------+-------------------+\n",
      "|  1|2.0|2022-01-01|2022-01-01 12:00:00|\n",
      "|  2|3.0|2022-02-01|2022-01-02 12:00:00|\n",
      "|  3|4.0|2022-03-01|2022-01-03 12:00:00|\n",
      "+---+---+----------+-------------------+\n",
      "\n"
     ]
    }
   ],
   "source": [
    "df.show()"
   ]
  },
  {
   "cell_type": "code",
   "execution_count": 159,
   "id": "f37df2fa",
   "metadata": {},
   "outputs": [
    {
     "data": {
      "text/plain": [
       "Column<'CAST(unix_timestamp(2022-04-22 15:58:18, yyyy-MM-dd HH:mm:ss) AS TIMESTAMP)'>"
      ]
     },
     "execution_count": 159,
     "metadata": {},
     "output_type": "execute_result"
    }
   ],
   "source": [
    "unix_timestamp(lit(timestamp),'yyyy-MM-dd HH:mm:ss').cast(\"timestamp\")"
   ]
  },
  {
   "cell_type": "code",
   "execution_count": 175,
   "id": "e92ed516",
   "metadata": {},
   "outputs": [
    {
     "data": {
      "text/html": [
       "<div>\n",
       "<style scoped>\n",
       "    .dataframe tbody tr th:only-of-type {\n",
       "        vertical-align: middle;\n",
       "    }\n",
       "\n",
       "    .dataframe tbody tr th {\n",
       "        vertical-align: top;\n",
       "    }\n",
       "\n",
       "    .dataframe thead th {\n",
       "        text-align: right;\n",
       "    }\n",
       "</style>\n",
       "<table border=\"1\" class=\"dataframe\">\n",
       "  <thead>\n",
       "    <tr style=\"text-align: right;\">\n",
       "      <th></th>\n",
       "      <th>nome</th>\n",
       "      <th>valor</th>\n",
       "      <th>tipo</th>\n",
       "    </tr>\n",
       "  </thead>\n",
       "  <tbody>\n",
       "    <tr>\n",
       "      <th>0</th>\n",
       "      <td>Fulano 0</td>\n",
       "      <td>455</td>\n",
       "      <td>Fornecedor</td>\n",
       "    </tr>\n",
       "    <tr>\n",
       "      <th>1</th>\n",
       "      <td>Fulano 1</td>\n",
       "      <td>292</td>\n",
       "      <td>Cliente</td>\n",
       "    </tr>\n",
       "    <tr>\n",
       "      <th>2</th>\n",
       "      <td>Fulano 2</td>\n",
       "      <td>401</td>\n",
       "      <td>Fornecedor</td>\n",
       "    </tr>\n",
       "    <tr>\n",
       "      <th>3</th>\n",
       "      <td>Fulano 3</td>\n",
       "      <td>131</td>\n",
       "      <td>Cliente</td>\n",
       "    </tr>\n",
       "    <tr>\n",
       "      <th>4</th>\n",
       "      <td>Fulano 4</td>\n",
       "      <td>243</td>\n",
       "      <td>Cliente</td>\n",
       "    </tr>\n",
       "  </tbody>\n",
       "</table>\n",
       "</div>"
      ],
      "text/plain": [
       "       nome  valor        tipo\n",
       "0  Fulano 0    455  Fornecedor\n",
       "1  Fulano 1    292     Cliente\n",
       "2  Fulano 2    401  Fornecedor\n",
       "3  Fulano 3    131     Cliente\n",
       "4  Fulano 4    243     Cliente"
      ]
     },
     "execution_count": 175,
     "metadata": {},
     "output_type": "execute_result"
    }
   ],
   "source": [
    "row = []\n",
    "for i in range(0, 500):\n",
    "    row.append(('Fulano ' + str(i), random.randint(100,500), random.choice(['Cliente','Fornecedor'])))\n",
    "    \n",
    "df_spark = spark.createDataFrame(row, schema = 'nome string, valor long, tipo string')\n",
    "df_spark.limit(5).toPandas()"
   ]
  },
  {
   "cell_type": "code",
   "execution_count": 144,
   "id": "6eb2b79d",
   "metadata": {},
   "outputs": [],
   "source": [
    "from pyspark.sql.functions import lit, unix_timestamp"
   ]
  },
  {
   "cell_type": "code",
   "execution_count": 99,
   "id": "a7270497",
   "metadata": {},
   "outputs": [
    {
     "data": {
      "text/plain": [
       "Column<'NULL'>"
      ]
     },
     "execution_count": 99,
     "metadata": {},
     "output_type": "execute_result"
    }
   ],
   "source": [
    "lit(None)"
   ]
  },
  {
   "cell_type": "code",
   "execution_count": 192,
   "id": "df58db1d",
   "metadata": {},
   "outputs": [],
   "source": [
    "timestamp = datetime.fromtimestamp(time.time()).strftime('%Y-%m-%d %H:%M:%S')"
   ]
  },
  {
   "cell_type": "code",
   "execution_count": 195,
   "id": "af8799a6",
   "metadata": {},
   "outputs": [],
   "source": [
    "df_spark = df_spark.withColumn('datetime', unix_timestamp(lit(timestamp),'yyyy-MM-dd HH:mm:ss').cast(\"timestamp\"))"
   ]
  },
  {
   "cell_type": "code",
   "execution_count": 196,
   "id": "04b545ad",
   "metadata": {},
   "outputs": [
    {
     "name": "stdout",
     "output_type": "stream",
     "text": [
      "+---------+-----+----------+-------------------+\n",
      "|     nome|valor|      tipo|           datetime|\n",
      "+---------+-----+----------+-------------------+\n",
      "| Fulano 0|  455|Fornecedor|2022-04-22 16:04:48|\n",
      "| Fulano 1|  292|   Cliente|2022-04-22 16:04:48|\n",
      "| Fulano 2|  401|Fornecedor|2022-04-22 16:04:48|\n",
      "| Fulano 3|  131|   Cliente|2022-04-22 16:04:48|\n",
      "| Fulano 4|  243|   Cliente|2022-04-22 16:04:48|\n",
      "| Fulano 5|  359|Fornecedor|2022-04-22 16:04:48|\n",
      "| Fulano 6|  180|   Cliente|2022-04-22 16:04:48|\n",
      "| Fulano 7|  399|   Cliente|2022-04-22 16:04:48|\n",
      "| Fulano 8|  247|Fornecedor|2022-04-22 16:04:48|\n",
      "| Fulano 9|  486|Fornecedor|2022-04-22 16:04:48|\n",
      "|Fulano 10|  194|Fornecedor|2022-04-22 16:04:48|\n",
      "|Fulano 11|  323|   Cliente|2022-04-22 16:04:48|\n",
      "|Fulano 12|  183|Fornecedor|2022-04-22 16:04:48|\n",
      "|Fulano 13|  151|Fornecedor|2022-04-22 16:04:48|\n",
      "|Fulano 14|  382|Fornecedor|2022-04-22 16:04:48|\n",
      "|Fulano 15|  145|Fornecedor|2022-04-22 16:04:48|\n",
      "|Fulano 16|  446|Fornecedor|2022-04-22 16:04:48|\n",
      "|Fulano 17|  206|Fornecedor|2022-04-22 16:04:48|\n",
      "|Fulano 18|  341|Fornecedor|2022-04-22 16:04:48|\n",
      "|Fulano 19|  298|   Cliente|2022-04-22 16:04:48|\n",
      "+---------+-----+----------+-------------------+\n",
      "only showing top 20 rows\n",
      "\n"
     ]
    }
   ],
   "source": [
    "df_spark.show()"
   ]
  }
 ],
 "metadata": {
  "kernelspec": {
   "display_name": "Python 3",
   "language": "python",
   "name": "python3"
  },
  "language_info": {
   "codemirror_mode": {
    "name": "ipython",
    "version": 3
   },
   "file_extension": ".py",
   "mimetype": "text/x-python",
   "name": "python",
   "nbconvert_exporter": "python",
   "pygments_lexer": "ipython3",
   "version": "3.8.10"
  }
 },
 "nbformat": 4,
 "nbformat_minor": 5
}
