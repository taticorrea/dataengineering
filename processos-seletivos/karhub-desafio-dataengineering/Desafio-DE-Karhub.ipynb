{
 "cells": [
  {
   "cell_type": "markdown",
   "id": "a1668999-0254-4eeb-ab55-5c6a622c8fb2",
   "metadata": {},
   "source": [
    "# Preparando ambiente"
   ]
  },
  {
   "cell_type": "markdown",
   "id": "9202ca65-c976-424b-bbec-59b515158bca",
   "metadata": {},
   "source": [
    "## Instalando libs"
   ]
  },
  {
   "cell_type": "code",
   "execution_count": 1,
   "id": "4d880745-3f0f-45e1-a35f-32e856707cc6",
   "metadata": {},
   "outputs": [],
   "source": [
    "!pip install --upgrade google-cloud-bigquery -q\n",
    "!pip install --upgrade pandas-gbq 'google-cloud-bigquery[bqstorage,pandas]' -q"
   ]
  },
  {
   "cell_type": "code",
   "execution_count": 2,
   "id": "fd4395f5-52d5-4067-8c9c-7d816b1facd9",
   "metadata": {},
   "outputs": [],
   "source": [
    "# bibliotecas\n",
    "import json\n",
    "from requests import request\n",
    "from datetime import datetime\n",
    "from google.cloud import bigquery\n",
    "from pandas_gbq import read_gbq, to_gbq\n",
    "from google.oauth2 import service_account\n",
    "from pandas import read_excel, read_csv, concat, merge, DataFrame, to_datetime, read_gbq,read_sql_query"
   ]
  },
  {
   "cell_type": "markdown",
   "id": "a2da066a-5332-4d70-855a-6b4ee753020d",
   "metadata": {},
   "source": [
    "# KarHub Alias"
   ]
  },
  {
   "cell_type": "markdown",
   "id": "941aacc6-190e-4b25-ac2c-2291dae113fa",
   "metadata": {},
   "source": [
    "## Consumo dos dados"
   ]
  },
  {
   "cell_type": "code",
   "execution_count": 3,
   "id": "807179b9-eb59-4d04-a96f-c9d1c8b99cb6",
   "metadata": {},
   "outputs": [],
   "source": [
    "produtos_alias = read_csv(\"Karhub-alias.csv\", sep=\",\")"
   ]
  },
  {
   "cell_type": "markdown",
   "id": "25fcf8d2-f2a8-4c07-a523-246bc3a233b3",
   "metadata": {},
   "source": [
    "## Tratamento dos dados\n",
    "\n",
    "Esta tabela possui um mapeamento entre o código original do produto e o códigos sinônimos. Algumas de suas colunas possuem caracteres especiais como acento e/ou underscore e estão com tipagem incorreta. Antes de realizar as análises e responder as perguntas de negócio é necessário sanitizar este dataset."
   ]
  },
  {
   "cell_type": "code",
   "execution_count": 4,
   "id": "983011a7-c24a-46ef-8c15-c8b8a301b7f7",
   "metadata": {},
   "outputs": [
    {
     "name": "stdout",
     "output_type": "stream",
     "text": [
      "(1250, 3)\n",
      "Fabricante          string\n",
      "CodigoFabricante    string\n",
      "Codigo              string\n",
      "dtype: object\n"
     ]
    },
    {
     "data": {
      "text/html": [
       "<div>\n",
       "<style scoped>\n",
       "    .dataframe tbody tr th:only-of-type {\n",
       "        vertical-align: middle;\n",
       "    }\n",
       "\n",
       "    .dataframe tbody tr th {\n",
       "        vertical-align: top;\n",
       "    }\n",
       "\n",
       "    .dataframe thead th {\n",
       "        text-align: right;\n",
       "    }\n",
       "</style>\n",
       "<table border=\"1\" class=\"dataframe\">\n",
       "  <thead>\n",
       "    <tr style=\"text-align: right;\">\n",
       "      <th></th>\n",
       "      <th>Fabricante</th>\n",
       "      <th>CodigoFabricante</th>\n",
       "      <th>Codigo</th>\n",
       "    </tr>\n",
       "  </thead>\n",
       "  <tbody>\n",
       "    <tr>\n",
       "      <th>0</th>\n",
       "      <td>KarHub</td>\n",
       "      <td>FO0352</td>\n",
       "      <td>fo0352</td>\n",
       "    </tr>\n",
       "    <tr>\n",
       "      <th>1</th>\n",
       "      <td>KarHub</td>\n",
       "      <td>FO0353</td>\n",
       "      <td>fo0353</td>\n",
       "    </tr>\n",
       "    <tr>\n",
       "      <th>2</th>\n",
       "      <td>KarHub</td>\n",
       "      <td>FT0417</td>\n",
       "      <td>ft0417</td>\n",
       "    </tr>\n",
       "    <tr>\n",
       "      <th>3</th>\n",
       "      <td>KarHub</td>\n",
       "      <td>VW0127</td>\n",
       "      <td>vw0127</td>\n",
       "    </tr>\n",
       "    <tr>\n",
       "      <th>4</th>\n",
       "      <td>KarHub</td>\n",
       "      <td>PE0452</td>\n",
       "      <td>pe0452</td>\n",
       "    </tr>\n",
       "  </tbody>\n",
       "</table>\n",
       "</div>"
      ],
      "text/plain": [
       "  Fabricante CodigoFabricante  Codigo\n",
       "0     KarHub           FO0352  fo0352\n",
       "1     KarHub           FO0353  fo0353\n",
       "2     KarHub           FT0417  ft0417\n",
       "3     KarHub           VW0127  vw0127\n",
       "4     KarHub           PE0452  pe0452"
      ]
     },
     "execution_count": 4,
     "metadata": {},
     "output_type": "execute_result"
    }
   ],
   "source": [
    "produtos_alias.rename(columns={\"Código Fabricante\": \"CodigoFabricante\"},inplace=True)\n",
    "produtos_alias.rename(columns={\"Alias\": \"Codigo\"},inplace=True)\n",
    "\n",
    "columns = list(produtos_alias.columns)\n",
    "\n",
    "for column in columns:\n",
    "    #mudando tipagem\n",
    "    produtos_alias[f\"{column}\"] =  produtos_alias[f\"{column}\"].astype(\"string\")\n",
    "    #renomeando coluna\n",
    "\n",
    "print(produtos_alias.shape)\n",
    "print(produtos_alias.dtypes)\n",
    "produtos_alias.head()"
   ]
  },
  {
   "cell_type": "markdown",
   "id": "24cb7af0-b87e-43c2-92e7-dab485591d88",
   "metadata": {},
   "source": [
    "# Produtos KarHub"
   ]
  },
  {
   "cell_type": "markdown",
   "id": "f2b4642c-5a16-4608-b184-f2affacfc300",
   "metadata": {},
   "source": [
    "## Consumo dos dados"
   ]
  },
  {
   "cell_type": "code",
   "execution_count": 5,
   "id": "73ddd970-29da-4c89-a395-7015f360add9",
   "metadata": {},
   "outputs": [],
   "source": [
    "# produtos_xlsx.to_csv ('produtos', index = None, header=True, sep = \";\")"
   ]
  },
  {
   "cell_type": "code",
   "execution_count": 6,
   "id": "3d485242-8328-45a3-8eed-8114ba8d31e5",
   "metadata": {},
   "outputs": [],
   "source": [
    "# produtos_part2 = read_csv(\"karhub_autoparts_1/Tabela2.csv\", sep=\";\")\n",
    "# produtos_part1 = read_csv(\"karhub_autoparts_1/Tabela1.csv\", sep=\";\")\n",
    "produtos = read_excel(\"karhub_autoparts_1.xlsx\")"
   ]
  },
  {
   "cell_type": "markdown",
   "id": "4b4ff282-1918-4109-a448-36b5d3f8e4fb",
   "metadata": {},
   "source": [
    "## Tratamento dos dados\n",
    "\n",
    "Os dados sobre as peças automotivas/produtos estão em uma planilha de excel. Assim como a tabela com os alias, este conjunto de dados precisa passar um processo de sanitização e limpeza."
   ]
  },
  {
   "cell_type": "code",
   "execution_count": 7,
   "id": "e66bbcd1-4bd0-45de-bb79-2082e01fe3a4",
   "metadata": {
    "tags": []
   },
   "outputs": [
    {
     "name": "stdout",
     "output_type": "stream",
     "text": [
      "(1006, 7)\n",
      "NomeSKU        string\n",
      "Fabricante     string\n",
      "Codigo         string\n",
      "Composicao     string\n",
      "Categoria      string\n",
      "Largura_cm    float64\n",
      "Altura_cm     float64\n",
      "dtype: object\n"
     ]
    },
    {
     "data": {
      "text/html": [
       "<div>\n",
       "<style scoped>\n",
       "    .dataframe tbody tr th:only-of-type {\n",
       "        vertical-align: middle;\n",
       "    }\n",
       "\n",
       "    .dataframe tbody tr th {\n",
       "        vertical-align: top;\n",
       "    }\n",
       "\n",
       "    .dataframe thead th {\n",
       "        text-align: right;\n",
       "    }\n",
       "</style>\n",
       "<table border=\"1\" class=\"dataframe\">\n",
       "  <thead>\n",
       "    <tr style=\"text-align: right;\">\n",
       "      <th></th>\n",
       "      <th>NomeSKU</th>\n",
       "      <th>Fabricante</th>\n",
       "      <th>Codigo</th>\n",
       "      <th>Composicao</th>\n",
       "      <th>Categoria</th>\n",
       "      <th>Largura_cm</th>\n",
       "      <th>Altura_cm</th>\n",
       "    </tr>\n",
       "  </thead>\n",
       "  <tbody>\n",
       "    <tr>\n",
       "      <th>0</th>\n",
       "      <td>Mola da Suspensão Traseira</td>\n",
       "      <td>KarHub</td>\n",
       "      <td>fo0352</td>\n",
       "      <td>UNITARY</td>\n",
       "      <td>Mola Helicoidal</td>\n",
       "      <td>18.0</td>\n",
       "      <td>9.0</td>\n",
       "    </tr>\n",
       "    <tr>\n",
       "      <th>1</th>\n",
       "      <td>Mola da Suspensão Traseira</td>\n",
       "      <td>KarHub</td>\n",
       "      <td>fo0352</td>\n",
       "      <td>UNITARY</td>\n",
       "      <td>Mola Helicoidal</td>\n",
       "      <td>18.0</td>\n",
       "      <td>9.0</td>\n",
       "    </tr>\n",
       "    <tr>\n",
       "      <th>2</th>\n",
       "      <td>Mola da Suspensão Dianteira</td>\n",
       "      <td>KarHub</td>\n",
       "      <td>fo0353</td>\n",
       "      <td>UNITARY</td>\n",
       "      <td>Mola Helicoidal</td>\n",
       "      <td>18.0</td>\n",
       "      <td>9.0</td>\n",
       "    </tr>\n",
       "    <tr>\n",
       "      <th>3</th>\n",
       "      <td>Mola da Suspensão Dianteira</td>\n",
       "      <td>KarHub</td>\n",
       "      <td>fo0353</td>\n",
       "      <td>UNITARY</td>\n",
       "      <td>Mola Helicoidal</td>\n",
       "      <td>18.0</td>\n",
       "      <td>9.0</td>\n",
       "    </tr>\n",
       "    <tr>\n",
       "      <th>4</th>\n",
       "      <td>Mola da Suspensão Traseira</td>\n",
       "      <td>KarHub</td>\n",
       "      <td>ft0417</td>\n",
       "      <td>UNITARY</td>\n",
       "      <td>Mola Helicoidal</td>\n",
       "      <td>18.0</td>\n",
       "      <td>9.0</td>\n",
       "    </tr>\n",
       "  </tbody>\n",
       "</table>\n",
       "</div>"
      ],
      "text/plain": [
       "                       NomeSKU Fabricante  Codigo Composicao        Categoria  \\\n",
       "0   Mola da Suspensão Traseira     KarHub  fo0352    UNITARY  Mola Helicoidal   \n",
       "1   Mola da Suspensão Traseira     KarHub  fo0352    UNITARY  Mola Helicoidal   \n",
       "2  Mola da Suspensão Dianteira     KarHub  fo0353    UNITARY  Mola Helicoidal   \n",
       "3  Mola da Suspensão Dianteira     KarHub  fo0353    UNITARY  Mola Helicoidal   \n",
       "4   Mola da Suspensão Traseira     KarHub  ft0417    UNITARY  Mola Helicoidal   \n",
       "\n",
       "   Largura_cm  Altura_cm  \n",
       "0        18.0        9.0  \n",
       "1        18.0        9.0  \n",
       "2        18.0        9.0  \n",
       "3        18.0        9.0  \n",
       "4        18.0        9.0  "
      ]
     },
     "execution_count": 7,
     "metadata": {},
     "output_type": "execute_result"
    }
   ],
   "source": [
    "#sanitizacao\n",
    "produtos.columns = [i.replace(\" \",\"\").replace(\"(\",\"\").replace(\")\",\"\") for i in produtos.columns]\n",
    "\n",
    "#Filtrando registros cujo valos da Coluna NomeAtributo seja Largura (cm\" ou Altura (cm)\n",
    "produtos = produtos[((produtos[\"NomeAtributo\"] == \"Largura (cm)\") | (produtos[\"NomeAtributo\"] == \"Altura (cm)\"))]\n",
    "\n",
    "#renomeando colunas\n",
    "produtos.rename(columns={\"Composição\": \"Composicao\"},inplace=True)\n",
    "produtos.rename(columns={\"Código\": \"Codigo\"},inplace=True)\n",
    "\n",
    "for i,column in enumerate(produtos.columns):\n",
    "    if column == f\"Unnamed:{i}\":\n",
    "        del produtos[f\"{column}\"]\n",
    "    elif column == \"ValorAtributo\":\n",
    "        produtos[f\"{column}\"] = [i.replace(\",\",\".\") for i in produtos[f\"{column}\"]]\n",
    "        produtos[f\"{column}\"] = produtos[f\"{column}\"].astype(\"float\")\n",
    "    else:\n",
    "        produtos[f\"{column}\"] =  produtos[f\"{column}\"].astype(\"string\")\n",
    "\n",
    "#registros com valores de altura\n",
    "df_alt = produtos.filter(items=['NomeAtributo', 'Codigo'])\n",
    "df_alt[\"Altura_cm\"] = produtos[produtos[\"NomeAtributo\"] == \"Altura (cm)\"][\"ValorAtributo\"]\n",
    "df_alt.dropna(inplace=True)\n",
    "\n",
    "#registros com valores de largura\n",
    "df_larg = produtos.filter(items=['NomeAtributo', 'Codigo'])\n",
    "df_larg[\"Largura_cm\"] = produtos[produtos[\"NomeAtributo\"] == \"Largura (cm)\"][\"ValorAtributo\"]\n",
    "df_larg.dropna(inplace=True)\n",
    "\n",
    "#drop de colunas\n",
    "df_alt.drop(\"NomeAtributo\", inplace = True, axis = 1)\n",
    "df_larg.drop(\"NomeAtributo\", inplace = True, axis = 1)\n",
    "\n",
    "produtos.drop(\"ValorAtributo\", inplace = True, axis = 1)\n",
    "produtos.drop(\"NomeAtributo\", inplace = True, axis = 1)\n",
    "\n",
    "#merge dos registros com valores de largura e altura\n",
    "df = df_larg.merge(df_alt, on=\"Codigo\")\n",
    "\n",
    "#merge final\n",
    "produtos = produtos.merge(df, on=\"Codigo\")\n",
    "\n",
    "print(produtos.shape)\n",
    "print(produtos.dtypes)\n",
    "produtos.head()"
   ]
  },
  {
   "cell_type": "markdown",
   "id": "59bdef97-e895-4a50-8d28-7dfa5ab878c7",
   "metadata": {},
   "source": [
    "# API de veículos compatíveis"
   ]
  },
  {
   "cell_type": "markdown",
   "id": "28e40147-1515-49ff-9cbd-78c5bba9b4fb",
   "metadata": {},
   "source": [
    "## Autenticação\n",
    "\n",
    "A API que disponibiliza os dados dos automóveis não é pública, e portanto precisa de autenticação para obter os dados na requisição GET. Para obter o token de acesso fiz uma requisição POST utilizando a biblioteca requests no endpoint disponibilizado, com os parametros pedidos no corpo da requisição. O token é o valor da chave API TOKEN, do json que vem no corpo do response da API."
   ]
  },
  {
   "cell_type": "code",
   "execution_count": 8,
   "id": "13da63ae-410a-4b67-86ba-94a3b8cfa35e",
   "metadata": {},
   "outputs": [],
   "source": [
    "url_auth = \"https://api-data-engineer-test-3bqvkbbykq-uc.a.run.app/user/\"\n",
    "\n",
    "payload = json.dumps({\n",
    "  \"full_name\": \"Tatiane Correa da Costa e Silva\",\n",
    "  \"email\": \"correa.tcs@gmail.com\"\n",
    "})\n",
    "headers = {\n",
    "  'Content-Type': 'application/json'\n",
    "}\n",
    "\n",
    "# response = request(\"POST\", url_auth, headers=headers, data=payload)\n",
    "\n",
    "response = {\n",
    "    \"user\": \"correa.tcs@gmail.com\",\n",
    "    \"API Token\": \"KH8ZCB4IO79X\"\n",
    "}\n",
    "\n",
    "token = response[\"API Token\"]"
   ]
  },
  {
   "cell_type": "markdown",
   "id": "33959d9d-fca7-4626-ac49-b04837d1c287",
   "metadata": {},
   "source": [
    "## Consumo dos dados"
   ]
  },
  {
   "cell_type": "code",
   "execution_count": 9,
   "id": "6fee0e04-f483-4042-97a8-adc32b394fd3",
   "metadata": {},
   "outputs": [],
   "source": [
    "url = f\"https://api-data-engineer-test-3bqvkbbykq-uc.a.run.app/token={token}\"\n",
    "\n",
    "payload = \"\"\n",
    "headers = {}\n",
    "\n",
    "response = request(\"GET\", url, headers=headers, data=payload)\n",
    "data = response.json()"
   ]
  },
  {
   "cell_type": "markdown",
   "id": "6fff9d26-d1ad-4d3b-8ca1-b5b53135ddf8",
   "metadata": {},
   "source": [
    "## Tratamento dos dados\n",
    "\n",
    "Os dados obtidos via requisição na API estão no formato json, e através de uma iteração foi possível transformar em um dataframe. Este conjunto de dados, assim como os outros, precisa de uma sanitização para poder ser consumido."
   ]
  },
  {
   "cell_type": "code",
   "execution_count": 10,
   "id": "b18a1dfd-03ca-454e-aa7e-5806e99ebd58",
   "metadata": {},
   "outputs": [
    {
     "name": "stdout",
     "output_type": "stream",
     "text": [
      "(27477, 6)\n",
      "Fabricante          string\n",
      "CodigoFabricante    string\n",
      "Marca               string\n",
      "Modelo              string\n",
      "Ano                  int64\n",
      "Complemento         string\n",
      "dtype: object\n"
     ]
    },
    {
     "data": {
      "text/html": [
       "<div>\n",
       "<style scoped>\n",
       "    .dataframe tbody tr th:only-of-type {\n",
       "        vertical-align: middle;\n",
       "    }\n",
       "\n",
       "    .dataframe tbody tr th {\n",
       "        vertical-align: top;\n",
       "    }\n",
       "\n",
       "    .dataframe thead th {\n",
       "        text-align: right;\n",
       "    }\n",
       "</style>\n",
       "<table border=\"1\" class=\"dataframe\">\n",
       "  <thead>\n",
       "    <tr style=\"text-align: right;\">\n",
       "      <th></th>\n",
       "      <th>Fabricante</th>\n",
       "      <th>CodigoFabricante</th>\n",
       "      <th>Marca</th>\n",
       "      <th>Modelo</th>\n",
       "      <th>Ano</th>\n",
       "      <th>Complemento</th>\n",
       "    </tr>\n",
       "  </thead>\n",
       "  <tbody>\n",
       "    <tr>\n",
       "      <th>0</th>\n",
       "      <td>KarHub</td>\n",
       "      <td>FO0352</td>\n",
       "      <td>FORD</td>\n",
       "      <td>FIESTA</td>\n",
       "      <td>1996</td>\n",
       "      <td>1.0 MPI 8V CLASS 2P</td>\n",
       "    </tr>\n",
       "    <tr>\n",
       "      <th>0</th>\n",
       "      <td>KarHub</td>\n",
       "      <td>FO0352</td>\n",
       "      <td>FORD</td>\n",
       "      <td>FIESTA</td>\n",
       "      <td>1996</td>\n",
       "      <td>1.0 MPI 8V - 4P</td>\n",
       "    </tr>\n",
       "    <tr>\n",
       "      <th>0</th>\n",
       "      <td>KarHub</td>\n",
       "      <td>FO0352</td>\n",
       "      <td>FORD</td>\n",
       "      <td>FIESTA</td>\n",
       "      <td>1996</td>\n",
       "      <td>1.0 MPI 8V - 2P</td>\n",
       "    </tr>\n",
       "    <tr>\n",
       "      <th>0</th>\n",
       "      <td>KarHub</td>\n",
       "      <td>FO0352</td>\n",
       "      <td>FORD</td>\n",
       "      <td>FIESTA</td>\n",
       "      <td>1996</td>\n",
       "      <td>1.3 MPI 8V CLX 4P</td>\n",
       "    </tr>\n",
       "    <tr>\n",
       "      <th>0</th>\n",
       "      <td>KarHub</td>\n",
       "      <td>FO0352</td>\n",
       "      <td>FORD</td>\n",
       "      <td>FIESTA</td>\n",
       "      <td>1996</td>\n",
       "      <td>1.0 MPI 8V CLASS 4P</td>\n",
       "    </tr>\n",
       "  </tbody>\n",
       "</table>\n",
       "</div>"
      ],
      "text/plain": [
       "  Fabricante CodigoFabricante Marca  Modelo   Ano          Complemento\n",
       "0     KarHub           FO0352  FORD  FIESTA  1996  1.0 MPI 8V CLASS 2P\n",
       "0     KarHub           FO0352  FORD  FIESTA  1996      1.0 MPI 8V - 4P\n",
       "0     KarHub           FO0352  FORD  FIESTA  1996      1.0 MPI 8V - 2P\n",
       "0     KarHub           FO0352  FORD  FIESTA  1996    1.3 MPI 8V CLX 4P\n",
       "0     KarHub           FO0352  FORD  FIESTA  1996  1.0 MPI 8V CLASS 4P"
      ]
     },
     "execution_count": 10,
     "metadata": {},
     "output_type": "execute_result"
    }
   ],
   "source": [
    "fabricante = []\n",
    "codigo = []\n",
    "marca = []\n",
    "modelo = []\n",
    "ano = []\n",
    "complemento = []\n",
    "\n",
    "#iteracao na lista de jsons para criar o dataframe\n",
    "data  = response.json()\n",
    "for content in data:\n",
    "    fabricante.append(content[\"Fabricante\"])\n",
    "    codigo.append(content[\"Código Fabricante\"])\n",
    "    marca.append(content[\"Marca\"])\n",
    "    modelo.append(content[\"Modelo\"])\n",
    "    ano.append(content[\"Ano\"])\n",
    "    complemento.append(content[\"Complemento\"])\n",
    "    \n",
    "values = list(zip(fabricante,codigo,marca,modelo,ano,complemento))\n",
    "\n",
    "#nomeando as colunas\n",
    "veiculos_compativeis = DataFrame(values, columns=['Fabricante', 'Código Fabricante','Marca','Modelo','Ano','Complemento'])\n",
    "\n",
    "#tipagem\n",
    "veiculos_compativeis.Ano = veiculos_compativeis.Ano.astype(\"string\")\n",
    "\n",
    "veiculos_compativeis.dropna(inplace=True)\n",
    "\n",
    "#sanitização\n",
    "veiculos_compativeis.Ano = [i.replace(\".0\",\"\") for i in veiculos_compativeis.Ano]\n",
    "veiculos_compativeis.Complemento = [i.split(\"  | \") for i in veiculos_compativeis.Complemento]\n",
    "\n",
    "#gerando lista de colunas\n",
    "columns = list(veiculos_compativeis.columns)\n",
    "\n",
    "#explodindo coluna complemento\n",
    "veiculos_compativeis = veiculos_compativeis.explode(\"Complemento\")\n",
    "\n",
    "for i,column in enumerate(veiculos_compativeis.columns):\n",
    "    if column == \"Código Fabricante\":\n",
    "        veiculos_compativeis.rename(columns={\"Código Fabricante\": \"CodigoFabricante\"},inplace=True)\n",
    "        veiculos_compativeis[\"CodigoFabricante\"] =  veiculos_compativeis[\"CodigoFabricante\"].astype(\"string\")        \n",
    "    elif column == \"Ano\":\n",
    "        veiculos_compativeis[f\"{column}\"] =  to_datetime(veiculos_compativeis[f\"{column}\"]).dt.year\n",
    "    else:\n",
    "        veiculos_compativeis[f\"{column}\"] =  veiculos_compativeis[f\"{column}\"].astype(\"string\")\n",
    "\n",
    "print(veiculos_compativeis.shape)\n",
    "print(veiculos_compativeis.dtypes)\n",
    "veiculos_compativeis.head()"
   ]
  },
  {
   "cell_type": "markdown",
   "id": "f5afa917-0f60-4a1a-a09c-3127af40b562",
   "metadata": {},
   "source": [
    "# Produtos x Veículos compatíveis"
   ]
  },
  {
   "cell_type": "markdown",
   "id": "a9323c24-2ae3-4ede-abf5-3449dee20d20",
   "metadata": {},
   "source": [
    "## Tratamento dos dados"
   ]
  },
  {
   "cell_type": "code",
   "execution_count": 11,
   "id": "910feb76-72b2-4101-a190-8f35dae9f3f7",
   "metadata": {},
   "outputs": [
    {
     "name": "stdout",
     "output_type": "stream",
     "text": [
      "(56722, 14)\n",
      "Fabricante                  string\n",
      "CodigoFabricante            string\n",
      "Marca                       string\n",
      "Modelo                      string\n",
      "Ano                          int64\n",
      "Complemento                 string\n",
      "NomeSKU                     string\n",
      "Codigo                      string\n",
      "Composicao                  string\n",
      "Categoria                   string\n",
      "Largura_cm                 float64\n",
      "Altura_cm                  float64\n",
      "candidate_name              string\n",
      "df_insert           datetime64[ns]\n",
      "dtype: object\n"
     ]
    },
    {
     "data": {
      "text/html": [
       "<div>\n",
       "<style scoped>\n",
       "    .dataframe tbody tr th:only-of-type {\n",
       "        vertical-align: middle;\n",
       "    }\n",
       "\n",
       "    .dataframe tbody tr th {\n",
       "        vertical-align: top;\n",
       "    }\n",
       "\n",
       "    .dataframe thead th {\n",
       "        text-align: right;\n",
       "    }\n",
       "</style>\n",
       "<table border=\"1\" class=\"dataframe\">\n",
       "  <thead>\n",
       "    <tr style=\"text-align: right;\">\n",
       "      <th></th>\n",
       "      <th>Fabricante</th>\n",
       "      <th>CodigoFabricante</th>\n",
       "      <th>Marca</th>\n",
       "      <th>Modelo</th>\n",
       "      <th>Ano</th>\n",
       "      <th>Complemento</th>\n",
       "      <th>NomeSKU</th>\n",
       "      <th>Codigo</th>\n",
       "      <th>Composicao</th>\n",
       "      <th>Categoria</th>\n",
       "      <th>Largura_cm</th>\n",
       "      <th>Altura_cm</th>\n",
       "      <th>candidate_name</th>\n",
       "      <th>df_insert</th>\n",
       "    </tr>\n",
       "  </thead>\n",
       "  <tbody>\n",
       "    <tr>\n",
       "      <th>0</th>\n",
       "      <td>KarHub</td>\n",
       "      <td>FO0352</td>\n",
       "      <td>FORD</td>\n",
       "      <td>FIESTA</td>\n",
       "      <td>1996</td>\n",
       "      <td>1.0 MPI 8V CLASS 2P</td>\n",
       "      <td>Mola da Suspensão Traseira</td>\n",
       "      <td>fo0352</td>\n",
       "      <td>UNITARY</td>\n",
       "      <td>Mola Helicoidal</td>\n",
       "      <td>18.0</td>\n",
       "      <td>9.0</td>\n",
       "      <td>Tatiane Corrêa da Costa e Silva</td>\n",
       "      <td>2023-04-28 20:12:11.513695</td>\n",
       "    </tr>\n",
       "    <tr>\n",
       "      <th>1</th>\n",
       "      <td>KarHub</td>\n",
       "      <td>FO0352</td>\n",
       "      <td>FORD</td>\n",
       "      <td>FIESTA</td>\n",
       "      <td>1996</td>\n",
       "      <td>1.0 MPI 8V CLASS 2P</td>\n",
       "      <td>Mola da Suspensão Traseira</td>\n",
       "      <td>fo0352</td>\n",
       "      <td>UNITARY</td>\n",
       "      <td>Mola Helicoidal</td>\n",
       "      <td>18.0</td>\n",
       "      <td>9.0</td>\n",
       "      <td>Tatiane Corrêa da Costa e Silva</td>\n",
       "      <td>2023-04-28 20:12:11.513695</td>\n",
       "    </tr>\n",
       "    <tr>\n",
       "      <th>2</th>\n",
       "      <td>KarHub</td>\n",
       "      <td>FO0352</td>\n",
       "      <td>FORD</td>\n",
       "      <td>FIESTA</td>\n",
       "      <td>1996</td>\n",
       "      <td>1.0 MPI 8V - 4P</td>\n",
       "      <td>Mola da Suspensão Traseira</td>\n",
       "      <td>fo0352</td>\n",
       "      <td>UNITARY</td>\n",
       "      <td>Mola Helicoidal</td>\n",
       "      <td>18.0</td>\n",
       "      <td>9.0</td>\n",
       "      <td>Tatiane Corrêa da Costa e Silva</td>\n",
       "      <td>2023-04-28 20:12:11.513695</td>\n",
       "    </tr>\n",
       "    <tr>\n",
       "      <th>3</th>\n",
       "      <td>KarHub</td>\n",
       "      <td>FO0352</td>\n",
       "      <td>FORD</td>\n",
       "      <td>FIESTA</td>\n",
       "      <td>1996</td>\n",
       "      <td>1.0 MPI 8V - 4P</td>\n",
       "      <td>Mola da Suspensão Traseira</td>\n",
       "      <td>fo0352</td>\n",
       "      <td>UNITARY</td>\n",
       "      <td>Mola Helicoidal</td>\n",
       "      <td>18.0</td>\n",
       "      <td>9.0</td>\n",
       "      <td>Tatiane Corrêa da Costa e Silva</td>\n",
       "      <td>2023-04-28 20:12:11.513695</td>\n",
       "    </tr>\n",
       "    <tr>\n",
       "      <th>4</th>\n",
       "      <td>KarHub</td>\n",
       "      <td>FO0352</td>\n",
       "      <td>FORD</td>\n",
       "      <td>FIESTA</td>\n",
       "      <td>1996</td>\n",
       "      <td>1.0 MPI 8V - 2P</td>\n",
       "      <td>Mola da Suspensão Traseira</td>\n",
       "      <td>fo0352</td>\n",
       "      <td>UNITARY</td>\n",
       "      <td>Mola Helicoidal</td>\n",
       "      <td>18.0</td>\n",
       "      <td>9.0</td>\n",
       "      <td>Tatiane Corrêa da Costa e Silva</td>\n",
       "      <td>2023-04-28 20:12:11.513695</td>\n",
       "    </tr>\n",
       "  </tbody>\n",
       "</table>\n",
       "</div>"
      ],
      "text/plain": [
       "  Fabricante CodigoFabricante Marca  Modelo   Ano          Complemento  \\\n",
       "0     KarHub           FO0352  FORD  FIESTA  1996  1.0 MPI 8V CLASS 2P   \n",
       "1     KarHub           FO0352  FORD  FIESTA  1996  1.0 MPI 8V CLASS 2P   \n",
       "2     KarHub           FO0352  FORD  FIESTA  1996      1.0 MPI 8V - 4P   \n",
       "3     KarHub           FO0352  FORD  FIESTA  1996      1.0 MPI 8V - 4P   \n",
       "4     KarHub           FO0352  FORD  FIESTA  1996      1.0 MPI 8V - 2P   \n",
       "\n",
       "                      NomeSKU  Codigo Composicao        Categoria  Largura_cm  \\\n",
       "0  Mola da Suspensão Traseira  fo0352    UNITARY  Mola Helicoidal        18.0   \n",
       "1  Mola da Suspensão Traseira  fo0352    UNITARY  Mola Helicoidal        18.0   \n",
       "2  Mola da Suspensão Traseira  fo0352    UNITARY  Mola Helicoidal        18.0   \n",
       "3  Mola da Suspensão Traseira  fo0352    UNITARY  Mola Helicoidal        18.0   \n",
       "4  Mola da Suspensão Traseira  fo0352    UNITARY  Mola Helicoidal        18.0   \n",
       "\n",
       "   Altura_cm                   candidate_name                  df_insert  \n",
       "0        9.0  Tatiane Corrêa da Costa e Silva 2023-04-28 20:12:11.513695  \n",
       "1        9.0  Tatiane Corrêa da Costa e Silva 2023-04-28 20:12:11.513695  \n",
       "2        9.0  Tatiane Corrêa da Costa e Silva 2023-04-28 20:12:11.513695  \n",
       "3        9.0  Tatiane Corrêa da Costa e Silva 2023-04-28 20:12:11.513695  \n",
       "4        9.0  Tatiane Corrêa da Costa e Silva 2023-04-28 20:12:11.513695  "
      ]
     },
     "execution_count": 11,
     "metadata": {},
     "output_type": "execute_result"
    }
   ],
   "source": [
    "#merges\n",
    "\n",
    "produtos_alias_merged = produtos.merge(produtos_alias, on=\"Codigo\",suffixes=[\"\",\"-\"])\n",
    "produtos_alias_merged.drop(['Fabricante-'], axis=1,inplace=True)\n",
    "\n",
    "produtos_alias_merged\n",
    "produtos_merged = veiculos_compativeis.merge(produtos_alias_merged, on=\"CodigoFabricante\",suffixes=[\"\",\"-\"])\n",
    "produtos_merged.drop(['Fabricante-'], axis=1,inplace=True)\n",
    "\n",
    "produtos_merged = produtos_merged.assign(candidate_name='Tatiane Corrêa da Costa e Silva')\n",
    "\n",
    "produtos_merged.candidate_name = produtos_merged.candidate_name.astype(\"string\")\n",
    "\n",
    "produtos_merged = produtos_merged.assign(df_insert=datetime.now())\n",
    "\n",
    "print(produtos_merged.shape)\n",
    "print(produtos_merged.dtypes)\n",
    "produtos_merged.head()"
   ]
  },
  {
   "cell_type": "markdown",
   "id": "9b4b64d0-13bf-4e66-b992-4c21a828ffaa",
   "metadata": {
    "tags": []
   },
   "source": [
    "## Ingestão no BigQuery\n",
    "\n",
    "Para ingerir dados no BQ é precisso ter algumas permissões do IAM de uso e escrita de tabelas, assim como criação de jobs etc. O método de autenticação utilizado foi o OAuth2 via uma Service Account disponibilizada previamente, com as devidas roles do IAM permitidas."
   ]
  },
  {
   "cell_type": "code",
   "execution_count": 12,
   "id": "8d766918-1656-40d7-934b-4d8b7fff8dbd",
   "metadata": {},
   "outputs": [],
   "source": [
    "project_id = \"karhub-data-engineer-test\"\n",
    "dataset_id = \"cadastro_produto\"\n",
    "table_name = \"kh_data_engineer_teste_Tatiane\"\n",
    "table_id = f\"{dataset_id}.{table_name}\""
   ]
  },
  {
   "cell_type": "code",
   "execution_count": 13,
   "id": "f53b27f9-4293-4cc6-a32d-935ad5fda76c",
   "metadata": {
    "tags": []
   },
   "outputs": [],
   "source": [
    "credentials = service_account.Credentials.from_service_account_file(\n",
    "    '/Users/tcsilva/workspace/pessoal/estudos/desafio-de-karhub/svc-karhub-data-engineer-test.json',\n",
    ")"
   ]
  },
  {
   "cell_type": "code",
   "execution_count": 14,
   "id": "bf993966-558e-4a99-bc11-a3e29793295e",
   "metadata": {},
   "outputs": [
    {
     "name": "stderr",
     "output_type": "stream",
     "text": [
      "100%|███████████████████████████████████████████████| 1/1 [00:00<00:00, 3086.32it/s]\n"
     ]
    }
   ],
   "source": [
    "to_gbq(produtos_merged, table_id, project_id=project_id,if_exists='replace', credentials=credentials)"
   ]
  },
  {
   "cell_type": "markdown",
   "id": "f7c10a77-52f3-478c-950d-e4eafa660476",
   "metadata": {},
   "source": [
    "## Questionário"
   ]
  },
  {
   "cell_type": "markdown",
   "id": "6ddb5205-6684-466b-9864-1c7631691dd3",
   "metadata": {},
   "source": [
    "### 1. </b> Quantos produtos únicos temos na base?<br>\n",
    "\n",
    "Para responder essa pergunta é necessário contar a quantidade de registros distintos na coluna CodigoFabricante, que é o código original dos produtos/preças automotivas."
   ]
  },
  {
   "cell_type": "code",
   "execution_count": 15,
   "id": "94545748-55f0-44dc-8cd7-1dadccda4f9c",
   "metadata": {},
   "outputs": [
    {
     "data": {
      "text/html": [
       "<div>\n",
       "<style scoped>\n",
       "    .dataframe tbody tr th:only-of-type {\n",
       "        vertical-align: middle;\n",
       "    }\n",
       "\n",
       "    .dataframe tbody tr th {\n",
       "        vertical-align: top;\n",
       "    }\n",
       "\n",
       "    .dataframe thead th {\n",
       "        text-align: right;\n",
       "    }\n",
       "</style>\n",
       "<table border=\"1\" class=\"dataframe\">\n",
       "  <thead>\n",
       "    <tr style=\"text-align: right;\">\n",
       "      <th></th>\n",
       "      <th>total_produtos_unicos</th>\n",
       "    </tr>\n",
       "  </thead>\n",
       "  <tbody>\n",
       "    <tr>\n",
       "      <th>0</th>\n",
       "      <td>349</td>\n",
       "    </tr>\n",
       "  </tbody>\n",
       "</table>\n",
       "</div>"
      ],
      "text/plain": [
       "   total_produtos_unicos\n",
       "0                    349"
      ]
     },
     "execution_count": 15,
     "metadata": {},
     "output_type": "execute_result"
    }
   ],
   "source": [
    "sql = f'''\n",
    "    SELECT \n",
    "        COUNT(DISTINCT(CodigoFabricante)) AS total_produtos_unicos\n",
    "    FROM {dataset_id}.{table_name}\n",
    "        \n",
    "        '''\n",
    "\n",
    "df = read_gbq(sql, project_id=project_id, credentials=credentials)\n",
    "df"
   ]
  },
  {
   "cell_type": "markdown",
   "id": "b90de7c8-ea1f-457e-aa56-15d288e2a10c",
   "metadata": {},
   "source": [
    "### 2. Quantos veículos únicos (mesma marca e modelo) temos na base por produto?</b><br>\n",
    "Para responder essa pergunta é necessário contar a quantidade de registros distintos em relação as colunas Marca e Modelo dos automóveis e agrupar pela coluna CodigoFabricante, que é o código original dos produtos/preças automotivas, que é o código original dos produtos/preças automotivas"
   ]
  },
  {
   "cell_type": "code",
   "execution_count": 16,
   "id": "50411321-9c76-4188-bb69-443db3a35f62",
   "metadata": {},
   "outputs": [
    {
     "data": {
      "text/html": [
       "<div>\n",
       "<style scoped>\n",
       "    .dataframe tbody tr th:only-of-type {\n",
       "        vertical-align: middle;\n",
       "    }\n",
       "\n",
       "    .dataframe tbody tr th {\n",
       "        vertical-align: top;\n",
       "    }\n",
       "\n",
       "    .dataframe thead th {\n",
       "        text-align: right;\n",
       "    }\n",
       "</style>\n",
       "<table border=\"1\" class=\"dataframe\">\n",
       "  <thead>\n",
       "    <tr style=\"text-align: right;\">\n",
       "      <th></th>\n",
       "      <th>CodigoFabricante</th>\n",
       "      <th>n_veiculos_unicos</th>\n",
       "    </tr>\n",
       "  </thead>\n",
       "  <tbody>\n",
       "    <tr>\n",
       "      <th>0</th>\n",
       "      <td>I-CH0500</td>\n",
       "      <td>1</td>\n",
       "    </tr>\n",
       "    <tr>\n",
       "      <th>1</th>\n",
       "      <td>I-FT0011</td>\n",
       "      <td>1</td>\n",
       "    </tr>\n",
       "    <tr>\n",
       "      <th>2</th>\n",
       "      <td>I-FT0375</td>\n",
       "      <td>2</td>\n",
       "    </tr>\n",
       "    <tr>\n",
       "      <th>3</th>\n",
       "      <td>I-FT0487</td>\n",
       "      <td>1</td>\n",
       "    </tr>\n",
       "    <tr>\n",
       "      <th>4</th>\n",
       "      <td>I-HO0597</td>\n",
       "      <td>1</td>\n",
       "    </tr>\n",
       "    <tr>\n",
       "      <th>...</th>\n",
       "      <td>...</td>\n",
       "      <td>...</td>\n",
       "    </tr>\n",
       "    <tr>\n",
       "      <th>344</th>\n",
       "      <td>I-VW2036</td>\n",
       "      <td>1</td>\n",
       "    </tr>\n",
       "    <tr>\n",
       "      <th>345</th>\n",
       "      <td>I-VW2037</td>\n",
       "      <td>1</td>\n",
       "    </tr>\n",
       "    <tr>\n",
       "      <th>346</th>\n",
       "      <td>I-VW2042</td>\n",
       "      <td>2</td>\n",
       "    </tr>\n",
       "    <tr>\n",
       "      <th>347</th>\n",
       "      <td>I-VW2043</td>\n",
       "      <td>2</td>\n",
       "    </tr>\n",
       "    <tr>\n",
       "      <th>348</th>\n",
       "      <td>I-VW2052</td>\n",
       "      <td>1</td>\n",
       "    </tr>\n",
       "  </tbody>\n",
       "</table>\n",
       "<p>349 rows × 2 columns</p>\n",
       "</div>"
      ],
      "text/plain": [
       "    CodigoFabricante  n_veiculos_unicos\n",
       "0           I-CH0500                  1\n",
       "1           I-FT0011                  1\n",
       "2           I-FT0375                  2\n",
       "3           I-FT0487                  1\n",
       "4           I-HO0597                  1\n",
       "..               ...                ...\n",
       "344         I-VW2036                  1\n",
       "345         I-VW2037                  1\n",
       "346         I-VW2042                  2\n",
       "347         I-VW2043                  2\n",
       "348         I-VW2052                  1\n",
       "\n",
       "[349 rows x 2 columns]"
      ]
     },
     "execution_count": 16,
     "metadata": {},
     "output_type": "execute_result"
    }
   ],
   "source": [
    "sql = f\"\"\"\n",
    "    SELECT \n",
    "        CodigoFabricante,\n",
    "        COUNT(DISTINCT CONCAT(Marca, Modelo)) AS n_veiculos_unicos\n",
    "    FROM {dataset_id}.{table_name}\n",
    "    GROUP BY CodigoFabricante;\"\"\"\n",
    "\n",
    "\n",
    "df = read_gbq(sql, project_id=project_id, credentials=credentials)\n",
    "df"
   ]
  },
  {
   "cell_type": "markdown",
   "id": "e71aaf48-3452-4e82-bc9d-d79623f42619",
   "metadata": {},
   "source": [
    "### 3. Quantos produtos únicos temos na base por categoria?</b><br>\n",
    "Para responder essa pergunta é necessário contar a quantidade de registros distintos em relação a coluna CodigoFabricante, que é o código original dos produtos/preças automotivas, e agrupar pela coluna Categoria."
   ]
  },
  {
   "cell_type": "code",
   "execution_count": 17,
   "id": "91933a0a-ab00-42ec-ba46-1ba762cd5de6",
   "metadata": {},
   "outputs": [
    {
     "data": {
      "text/html": [
       "<div>\n",
       "<style scoped>\n",
       "    .dataframe tbody tr th:only-of-type {\n",
       "        vertical-align: middle;\n",
       "    }\n",
       "\n",
       "    .dataframe tbody tr th {\n",
       "        vertical-align: top;\n",
       "    }\n",
       "\n",
       "    .dataframe thead th {\n",
       "        text-align: right;\n",
       "    }\n",
       "</style>\n",
       "<table border=\"1\" class=\"dataframe\">\n",
       "  <thead>\n",
       "    <tr style=\"text-align: right;\">\n",
       "      <th></th>\n",
       "      <th>Categoria</th>\n",
       "      <th>total_produtos_unicos</th>\n",
       "    </tr>\n",
       "  </thead>\n",
       "  <tbody>\n",
       "    <tr>\n",
       "      <th>0</th>\n",
       "      <td>Transmissão</td>\n",
       "      <td>17</td>\n",
       "    </tr>\n",
       "    <tr>\n",
       "      <th>1</th>\n",
       "      <td>Sonda Lambda</td>\n",
       "      <td>14</td>\n",
       "    </tr>\n",
       "    <tr>\n",
       "      <th>2</th>\n",
       "      <td>Freio</td>\n",
       "      <td>11</td>\n",
       "    </tr>\n",
       "    <tr>\n",
       "      <th>3</th>\n",
       "      <td>Mola Helicoidal</td>\n",
       "      <td>307</td>\n",
       "    </tr>\n",
       "  </tbody>\n",
       "</table>\n",
       "</div>"
      ],
      "text/plain": [
       "         Categoria  total_produtos_unicos\n",
       "0      Transmissão                     17\n",
       "1     Sonda Lambda                     14\n",
       "2            Freio                     11\n",
       "3  Mola Helicoidal                    307"
      ]
     },
     "execution_count": 17,
     "metadata": {},
     "output_type": "execute_result"
    }
   ],
   "source": [
    "sql = f'''\n",
    "    SELECT \n",
    "        Categoria,\n",
    "        COUNT(DISTINCT(CodigoFabricante)) AS total_produtos_unicos\n",
    "    FROM {dataset_id}.{table_name}\n",
    "    GROUP BY Categoria\n",
    "'''\n",
    "\n",
    "df = read_gbq(sql, project_id=project_id, credentials=credentials)\n",
    "df"
   ]
  }
 ],
 "metadata": {
  "kernelspec": {
   "display_name": "Python 3 (ipykernel)",
   "language": "python",
   "name": "python3"
  },
  "language_info": {
   "codemirror_mode": {
    "name": "ipython",
    "version": 3
   },
   "file_extension": ".py",
   "mimetype": "text/x-python",
   "name": "python",
   "nbconvert_exporter": "python",
   "pygments_lexer": "ipython3",
   "version": "3.9.7"
  }
 },
 "nbformat": 4,
 "nbformat_minor": 5
}
